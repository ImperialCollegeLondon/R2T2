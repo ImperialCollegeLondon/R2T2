{
 "cells": [
  {
   "cell_type": "markdown",
   "metadata": {},
   "source": [
    "# Using R2T2 in a script"
   ]
  },
  {
   "cell_type": "markdown",
   "metadata": {},
   "source": [
    "This example shows how to annotate functions and obtain the bibliography from the script. For running R2T2 from command line, see our [documentation](https://r2t2.readthedocs.io/en/latest/#)."
   ]
  },
  {
   "cell_type": "markdown",
   "metadata": {},
   "source": [
    "## Basic usage"
   ]
  },
  {
   "cell_type": "markdown",
   "metadata": {},
   "source": [
    "R2T2 works by decorating functions, classes or methods where particular algorithms described in a paper are implemented or data stored in a repository is used. General execution of code silently passes these decorators, but remembers how and where they were called. The decorators include a short description of the thing being reference, and the reference itself in any sensible format."
   ]
  },
  {
   "cell_type": "code",
   "execution_count": 2,
   "metadata": {},
   "outputs": [],
   "source": [
    "from r2t2 import add_reference\n",
    "\n",
    "@add_reference(short_purpose=\"Original implementation of R2T2\",\n",
    "               reference=\"Diego Alonso-Álvarez, et al.\"\n",
    "               \"(2018, February 27). Solcore (Version 5.1.0). Zenodo.\"\n",
    "               \"http://doi.org/10.5281/zenodo.1185316\")\n",
    "def my_great_function():\n",
    "    pass"
   ]
  },
  {
   "cell_type": "markdown",
   "metadata": {},
   "source": [
    "When tracking is on, the function will be added to the `BIBLIOGRAPHY` object whenever the function is called:"
   ]
  },
  {
   "cell_type": "code",
   "execution_count": 5,
   "metadata": {},
   "outputs": [
    {
     "name": "stdout",
     "output_type": "stream",
     "text": [
      "Referenced in: my_great_function\n",
      "Source file: <ipython-input-2-68a8660301b9>\n",
      "Line: 3\n",
      "\t[1] Original implementation of R2T2 - Diego Alonso-Álvarez, et al.(2018, February 27). Solcore (Version 5.1.0). Zenodo.http://doi.org/10.5281/zenodo.1185316\n",
      "\n",
      "\n"
     ]
    }
   ],
   "source": [
    "from r2t2 import BIBLIOGRAPHY\n",
    "\n",
    "BIBLIOGRAPHY.tracking()\n",
    "my_great_function()\n",
    "print(BIBLIOGRAPHY)"
   ]
  },
  {
   "cell_type": "markdown",
   "metadata": {},
   "source": [
    "## Tracking several functions"
   ]
  },
  {
   "cell_type": "markdown",
   "metadata": {},
   "source": [
    "If several functions are annotated, they will all be tracked by the bibliography (once tracking is enabled). This also works for classes, and their methods. Note that in a notebook, the class's `__init__` method, rather than the class itself, should be decorated"
   ]
  },
  {
   "cell_type": "code",
   "execution_count": 27,
   "metadata": {},
   "outputs": [],
   "source": [
    "# TODO: class reference does not work in a jupyter notebook. See #41\n",
    "class MyGreatClass():\n",
    "    @add_reference(short_purpose=\"Demonstrate class reference\",\n",
    "                   reference=\"A reference for a class\")\n",
    "    def __init__(self):\n",
    "        pass\n",
    "    \n",
    "    @add_reference(short_purpose=\"Demonstrate class method reference\",\n",
    "                   reference=\"A reference for a class method\")\n",
    "    def my_great_method(self):\n",
    "        pass"
   ]
  },
  {
   "cell_type": "markdown",
   "metadata": {},
   "source": [
    "We clear the bibliography so that it starts off empty"
   ]
  },
  {
   "cell_type": "code",
   "execution_count": 28,
   "metadata": {},
   "outputs": [
    {
     "name": "stdout",
     "output_type": "stream",
     "text": [
      "\n"
     ]
    }
   ],
   "source": [
    "BIBLIOGRAPHY.clear()\n",
    "print(BIBLIOGRAPHY)"
   ]
  },
  {
   "cell_type": "markdown",
   "metadata": {},
   "source": [
    "Now we can add the class"
   ]
  },
  {
   "cell_type": "code",
   "execution_count": 29,
   "metadata": {},
   "outputs": [
    {
     "name": "stdout",
     "output_type": "stream",
     "text": [
      "Referenced in: __init__\n",
      "Source file: <ipython-input-27-22681567fab2>\n",
      "Line: 3\n",
      "\t[1] Demonstrate class reference - A reference for a class\n",
      "\n",
      "\n"
     ]
    }
   ],
   "source": [
    "my_class = MyGreatClass()\n",
    "print(BIBLIOGRAPHY)"
   ]
  },
  {
   "cell_type": "markdown",
   "metadata": {},
   "source": [
    "Since the method has not yet been called, its reference is not included in the bibliography. After we call the method, it gets added to the bibliography"
   ]
  },
  {
   "cell_type": "code",
   "execution_count": 31,
   "metadata": {},
   "outputs": [
    {
     "name": "stdout",
     "output_type": "stream",
     "text": [
      "Referenced in: __init__\n",
      "Source file: <ipython-input-27-22681567fab2>\n",
      "Line: 3\n",
      "\t[1] Demonstrate class reference - A reference for a class\n",
      "\n",
      "Referenced in: my_great_method\n",
      "Source file: <ipython-input-27-22681567fab2>\n",
      "Line: 8\n",
      "\t[1] Demonstrate class method reference - A reference for a class method\n",
      "\n",
      "\n"
     ]
    }
   ],
   "source": [
    "my_class.my_great_method()\n",
    "print(BIBLIOGRAPHY)"
   ]
  },
  {
   "cell_type": "markdown",
   "metadata": {},
   "source": [
    "Now we can also call our original function"
   ]
  },
  {
   "cell_type": "code",
   "execution_count": 32,
   "metadata": {},
   "outputs": [
    {
     "name": "stdout",
     "output_type": "stream",
     "text": [
      "Referenced in: __init__\n",
      "Source file: <ipython-input-27-22681567fab2>\n",
      "Line: 3\n",
      "\t[1] Demonstrate class reference - A reference for a class\n",
      "\n",
      "Referenced in: my_great_method\n",
      "Source file: <ipython-input-27-22681567fab2>\n",
      "Line: 8\n",
      "\t[1] Demonstrate class method reference - A reference for a class method\n",
      "\n",
      "Referenced in: my_great_function\n",
      "Source file: <ipython-input-2-68a8660301b9>\n",
      "Line: 3\n",
      "\t[1] Original implementation of R2T2 - Diego Alonso-Álvarez, et al.(2018, February 27). Solcore (Version 5.1.0). Zenodo.http://doi.org/10.5281/zenodo.1185316\n",
      "\n",
      "\n"
     ]
    }
   ],
   "source": [
    "my_great_function()\n",
    "print(BIBLIOGRAPHY)"
   ]
  },
  {
   "cell_type": "markdown",
   "metadata": {},
   "source": [
    "Finally, we can also add a function with two references"
   ]
  },
  {
   "cell_type": "code",
   "execution_count": 49,
   "metadata": {},
   "outputs": [],
   "source": [
    "@add_reference(short_purpose=\"some comment\",  reference=\"Reference 1\")\n",
    "@add_reference(short_purpose=\"another comment\",  reference=\"Reference 2\")\n",
    "def my_multiple_function():\n",
    "    pass"
   ]
  },
  {
   "cell_type": "code",
   "execution_count": 50,
   "metadata": {},
   "outputs": [
    {
     "name": "stdout",
     "output_type": "stream",
     "text": [
      "Referenced in: __init__\n",
      "Source file: <ipython-input-27-22681567fab2>\n",
      "Line: 3\n",
      "\t[1] Demonstrate class reference - A reference for a class\n",
      "\n",
      "Referenced in: my_great_method\n",
      "Source file: <ipython-input-27-22681567fab2>\n",
      "Line: 8\n",
      "\t[1] Demonstrate class method reference - A reference for a class method\n",
      "\n",
      "Referenced in: my_great_function\n",
      "Source file: <ipython-input-2-68a8660301b9>\n",
      "Line: 3\n",
      "\t[1] Original implementation of R2T2 - Diego Alonso-Álvarez, et al.(2018, February 27). Solcore (Version 5.1.0). Zenodo.http://doi.org/10.5281/zenodo.1185316\n",
      "\n",
      "Referenced in: my_multiple_function\n",
      "Source file: <ipython-input-49-ec7580ebbc8c>\n",
      "Line: 1\n",
      "\t[1] some comment - Reference 1\n",
      "\t[2] another comment - Reference 2\n",
      "\n",
      "\n"
     ]
    }
   ],
   "source": [
    "my_multiple_function()\n",
    "print(BIBLIOGRAPHY)"
   ]
  },
  {
   "cell_type": "markdown",
   "metadata": {},
   "source": [
    "## Saving the bibliography"
   ]
  },
  {
   "cell_type": "markdown",
   "metadata": {},
   "source": [
    "The bibliography's string output can be saved to any file, for example"
   ]
  },
  {
   "cell_type": "code",
   "execution_count": 46,
   "metadata": {},
   "outputs": [],
   "source": [
    "with open(\"bibliography.txt\",\"w\") as f:\n",
    "    f.write(str(BIBLIOGRAPHY))"
   ]
  },
  {
   "cell_type": "markdown",
   "metadata": {},
   "source": [
    "And then read again"
   ]
  },
  {
   "cell_type": "code",
   "execution_count": 47,
   "metadata": {},
   "outputs": [
    {
     "name": "stdout",
     "output_type": "stream",
     "text": [
      "Referenced in: __init__\n",
      "Source file: <ipython-input-27-22681567fab2>\n",
      "Line: 3\n",
      "\t[1] Demonstrate class reference - A reference for a class\n",
      "\n",
      "Referenced in: my_great_method\n",
      "Source file: <ipython-input-27-22681567fab2>\n",
      "Line: 8\n",
      "\t[1] Demonstrate class method reference - A reference for a class method\n",
      "\n",
      "Referenced in: my_great_function\n",
      "Source file: <ipython-input-2-68a8660301b9>\n",
      "Line: 3\n",
      "\t[1] Original implementation of R2T2 - Diego Alonso-Álvarez, et al.(2018, February 27). Solcore (Version 5.1.0). Zenodo.http://doi.org/10.5281/zenodo.1185316\n",
      "\n",
      "\n"
     ]
    }
   ],
   "source": [
    "with open(\"bibliography.txt\",\"r\") as f:\n",
    "    print(f.read())"
   ]
  },
  {
   "cell_type": "code",
   "execution_count": 48,
   "metadata": {},
   "outputs": [],
   "source": [
    "import os\n",
    "os.remove(\"bibliography.txt\")"
   ]
  },
  {
   "cell_type": "code",
   "execution_count": null,
   "metadata": {},
   "outputs": [],
   "source": []
  }
 ],
 "metadata": {
  "kernelspec": {
   "display_name": "Python 3",
   "language": "python",
   "name": "python3"
  },
  "language_info": {
   "codemirror_mode": {
    "name": "ipython",
    "version": 3
   },
   "file_extension": ".py",
   "mimetype": "text/x-python",
   "name": "python",
   "nbconvert_exporter": "python",
   "pygments_lexer": "ipython3",
   "version": "3.8.5"
  }
 },
 "nbformat": 4,
 "nbformat_minor": 4
}
